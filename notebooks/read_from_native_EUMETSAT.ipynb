{
 "cells": [
  {
   "cell_type": "code",
   "execution_count": 40,
   "id": "d2aa67b2-471f-45b9-81b0-904e76caa2a4",
   "metadata": {},
   "outputs": [],
   "source": [
    "from satpy.scene import Scene\n",
    "from pathlib import Path\n",
    "import subprocess\n",
    "from pyresample import geometry"
   ]
  },
  {
   "cell_type": "code",
   "execution_count": 25,
   "id": "0f0305f1-bb33-448e-bea4-72291ac4b7dc",
   "metadata": {},
   "outputs": [],
   "source": [
    "#SOURCE_PATH = Path(\"/storage/data/ocf/solar_pv_nowcasting/nowcasting_dataset_pipeline/raw/EUMETSAT/SEVIRI_RSS/downloaded_manually_and_sorted/2019/06/01/12/04/MSG3-SEVI-MSG15-0100-NA-20190601120416.190000000Z-20190601120433-1358336-1.nat.bz2\")\n",
    "SOURCE_PATH = Path(\"~/temp/MSG3-SEVI-MSG15-0100-NA-20190601120416.190000000Z-20190601120433-1358336-1.nat.bz2\").expanduser()"
   ]
  },
  {
   "cell_type": "code",
   "execution_count": 26,
   "id": "84e36bc7-bcee-43fa-9fe3-41a140839732",
   "metadata": {},
   "outputs": [],
   "source": [
    "def decompress(full_bzip_filename: Path) -> Path:\n",
    "    # --keep: Keep the original .bz2 file (don't delete it)\n",
    "    # --force: Overwrite the .nat file if it already exists.\n",
    "    # -m1000: Maximum memory usage in 1MB steps (1000 = 1,000 MB)\n",
    "    process = subprocess.run(\n",
    "        ['pbzip2', '--decompress', '--keep', '--force', '-m1000', full_bzip_filename])\n",
    "    process.check_returncode()\n",
    "    full_nat_filename = full_bzip_filename.parent / full_bzip_filename.stem\n",
    "    assert full_nat_filename.exists()\n",
    "    return full_nat_filename"
   ]
  },
  {
   "cell_type": "code",
   "execution_count": 27,
   "id": "96333c9d-7f85-4531-aa32-3f159221643e",
   "metadata": {},
   "outputs": [
    {
     "name": "stdout",
     "output_type": "stream",
     "text": [
      "CPU times: user 2.34 ms, sys: 4.2 ms, total: 6.54 ms\n",
      "Wall time: 476 ms\n"
     ]
    }
   ],
   "source": [
    "%%time\n",
    "full_nat_filename = decompress(SOURCE_PATH)"
   ]
  },
  {
   "cell_type": "code",
   "execution_count": 28,
   "id": "418d07c6-6277-4210-a12f-8487823746a9",
   "metadata": {},
   "outputs": [
    {
     "data": {
      "text/plain": [
       "'/home/jack/temp/MSG3-SEVI-MSG15-0100-NA-20190601120416.190000000Z-20190601120433-1358336-1.nat'"
      ]
     },
     "execution_count": 28,
     "metadata": {},
     "output_type": "execute_result"
    }
   ],
   "source": [
    "str(full_nat_filename)"
   ]
  },
  {
   "cell_type": "markdown",
   "id": "62b402ad-d988-475b-9986-8d261288c37e",
   "metadata": {},
   "source": [
    "Reading from a MergerFS array will cause numpy's memmap to throw an OS Error:\n",
    "\n",
    "```python\n",
    "~/miniconda3/envs/nowcasting_dataset/lib/python3.9/site-packages/numpy/core/memmap.py in __new__(subtype, filename, dtype, mode, offset, shape, order)\n",
    "    265             bytes -= start\n",
    "    266             array_offset = offset - start\n",
    "--> 267             mm = mmap.mmap(fid.fileno(), bytes, access=acc, offset=start)\n",
    "    268 \n",
    "    269             self = ndarray.__new__(subtype, shape, dtype=descr, buffer=mm,\n",
    "\n",
    "OSError: [Errno 19] No such device\n",
    "```\n",
    "\n",
    "This isn't a huge problem, because we can read from the underlying ZFS mirrors, which is probably faster, anyway."
   ]
  },
  {
   "cell_type": "code",
   "execution_count": 39,
   "id": "bd0eede0-f831-435f-bf88-72df86fca209",
   "metadata": {},
   "outputs": [
    {
     "name": "stdout",
     "output_type": "stream",
     "text": [
      "CPU times: user 145 ms, sys: 0 ns, total: 145 ms\n",
      "Wall time: 144 ms\n"
     ]
    }
   ],
   "source": [
    "%%time\n",
    "\n",
    "# TODO: Try opening multiple .nat files at once, to see if the 150ms is constant, or scales with the number of files.\n",
    "\n",
    "scene = Scene(reader='seviri_l1b_native', filenames=[str(full_nat_filename)])"
   ]
  },
  {
   "cell_type": "code",
   "execution_count": 42,
   "id": "9b43e371-4f84-49a7-8be2-9930b5d27cd1",
   "metadata": {},
   "outputs": [],
   "source": [
    "# Adapted from https://github.com/openclimatefix/Satip/blob/e46013831071e8e4a4759ca46421d5355c342d1f/satip/reproj.py#L139\n",
    "projection = {\n",
    "    'ellps': 'WGS84',\n",
    "    'proj': 'tmerc',  # Transverse Mercator\n",
    "    'units': 'm'  # meters\n",
    "}\n",
    "\n",
    "area_definition = geometry.AreaDefinition.from_area_of_interest(\n",
    "    area_id=\"TM\",\n",
    "    projection=projection,\n",
    "    shape=(64, 64),  # height, width\n",
    "    center=(1000, 1000),  # x, y\n",
    "    resolution=4000)  # meters per pixel?!"
   ]
  },
  {
   "cell_type": "code",
   "execution_count": 53,
   "id": "3595ca30-f1bf-4ea7-bb8f-15f31d71a5ad",
   "metadata": {},
   "outputs": [
    {
     "name": "stdout",
     "output_type": "stream",
     "text": [
      "CPU times: user 140 ms, sys: 16.8 ms, total: 157 ms\n",
      "Wall time: 146 ms\n"
     ]
    }
   ],
   "source": [
    "%%time\n",
    "scene.load([\"HRV\"])"
   ]
  },
  {
   "cell_type": "code",
   "execution_count": 54,
   "id": "b705240a-e4e4-4625-9d9f-e245c12acea5",
   "metadata": {},
   "outputs": [
    {
     "name": "stderr",
     "output_type": "stream",
     "text": [
      "/home/jack/miniconda3/envs/nowcasting_dataset/lib/python3.9/site-packages/pyresample/spherical.py:119: RuntimeWarning: invalid value encountered in true_divide\n",
      "  self.cart /= np.sqrt(np.einsum('...i, ...i', self.cart, self.cart))\n",
      "/home/jack/miniconda3/envs/nowcasting_dataset/lib/python3.9/site-packages/pyresample/spherical.py:171: RuntimeWarning: invalid value encountered in double_scalars\n",
      "  return (val + mod) % (2 * mod) - mod\n"
     ]
    },
    {
     "name": "stdout",
     "output_type": "stream",
     "text": [
      "CPU times: user 705 ms, sys: 10.6 ms, total: 715 ms\n",
      "Wall time: 719 ms\n"
     ]
    },
    {
     "name": "stderr",
     "output_type": "stream",
     "text": [
      "/home/jack/miniconda3/envs/nowcasting_dataset/lib/python3.9/site-packages/numpy/lib/function_base.py:1292: RuntimeWarning: invalid value encountered in subtract\n",
      "  a = op(a[slice1], a[slice2])\n"
     ]
    }
   ],
   "source": [
    "%%time\n",
    "resampled_scene = scene.resample(destination=area_definition)\n",
    "# TODO: Only use one channel?"
   ]
  },
  {
   "cell_type": "code",
   "execution_count": 55,
   "id": "e6ba67cd-a628-4f3c-91b2-5d6dc865becc",
   "metadata": {},
   "outputs": [
    {
     "name": "stdout",
     "output_type": "stream",
     "text": [
      "<xarray.DataArray 'my_index-3ede33e6cbd2ffd8fea189a002d63468' (y: 64, x: 64)>\n",
      "dask.array<my_index, shape=(64, 64), dtype=float32, chunksize=(64, 64), chunktype=numpy.ndarray>\n",
      "Coordinates:\n",
      "    crs      object PROJCRS[\"unknown\",BASEGEOGCRS[\"unknown\",DATUM[\"Unknown ba...\n",
      "  * y        (y) float64 1.27e+05 1.23e+05 1.19e+05 ... -1.21e+05 -1.25e+05\n",
      "  * x        (x) float64 -1.25e+05 -1.21e+05 -1.17e+05 ... 1.23e+05 1.27e+05\n",
      "Attributes: (12/19)\n",
      "    orbital_parameters:                     {'projection_longitude': 9.5, 'pr...\n",
      "    sun_earth_distance_correction_applied:  True\n",
      "    sun_earth_distance_correction_factor:   1.0280062341635272\n",
      "    units:                                  %\n",
      "    wavelength:                             0.7 µm (0.5-0.9 µm)\n",
      "    standard_name:                          toa_bidirectional_reflectance\n",
      "    ...                                     ...\n",
      "    name:                                   HRV\n",
      "    resolution:                             1000.134348869\n",
      "    calibration:                            reflectance\n",
      "    modifiers:                              ()\n",
      "    _satpy_id:                              DataID(name='HRV', wavelength=Wav...\n",
      "    ancillary_variables:                    []\n"
     ]
    }
   ],
   "source": [
    "print(resampled_scene)"
   ]
  },
  {
   "cell_type": "code",
   "execution_count": 56,
   "id": "dfc25616-5b99-4d4d-86df-973c946bb9f7",
   "metadata": {},
   "outputs": [
    {
     "name": "stderr",
     "output_type": "stream",
     "text": [
      "/home/jack/miniconda3/envs/nowcasting_dataset/lib/python3.9/site-packages/dask/core.py:121: RuntimeWarning: invalid value encountered in cos\n",
      "  return func(*(_execute_task(a, cache) for a in args))\n",
      "/home/jack/miniconda3/envs/nowcasting_dataset/lib/python3.9/site-packages/dask/core.py:121: RuntimeWarning: invalid value encountered in sin\n",
      "  return func(*(_execute_task(a, cache) for a in args))\n"
     ]
    },
    {
     "data": {
      "image/png": "[encoded data removed]",
      "text/plain": [
       "<trollimage.xrimage.XRImage at 0x7fd5d979af10>"
      ]
     },
     "execution_count": 56,
     "metadata": {},
     "output_type": "execute_result"
    }
   ],
   "source": [
    "resampled_scene.show(\"HRV\")"
   ]
  },
  {
   "cell_type": "code",
   "execution_count": null,
   "id": "b0d14611-92d1-4cb4-8519-7ff6ab683462",
   "metadata": {},
   "outputs": [],
   "source": []
  }
 ],
 "metadata": {
  "kernelspec": {
   "display_name": "nowcasting_dataset",
   "language": "python",
   "name": "nowcasting_dataset"
  },
  "language_info": {
   "codemirror_mode": {
    "name": "ipython",
    "version": 3
   },
   "file_extension": ".py",
   "mimetype": "text/x-python",
   "name": "python",
   "nbconvert_exporter": "python",
   "pygments_lexer": "ipython3",
   "version": "3.9.7"
  }
 },
 "nbformat": 4,
 "nbformat_minor": 5
}
