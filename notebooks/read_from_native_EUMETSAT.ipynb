{
 "cells": [
  {
   "cell_type": "code",
   "execution_count": 2,
   "id": "d2aa67b2-471f-45b9-81b0-904e76caa2a4",
   "metadata": {},
   "outputs": [],
   "source": [
    "import satpy\n",
    "from pathlib import Path"
   ]
  },
  {
   "cell_type": "code",
   "execution_count": 3,
   "id": "0f0305f1-bb33-448e-bea4-72291ac4b7dc",
   "metadata": {},
   "outputs": [],
   "source": [
    "SOURCE_PATH = Path(\"/mnt/storage/data/ocf/solar_pv_nowcasting/nowcasting_dataset_pipeline/raw/EUMETSAT/SEVIRI_RSS/downloaded_manually_and_sorted/2019/06/01/12/04/MSG3-SEVI-MSG15-0100-NA-20190601120416.190000000Z-20190601120433-1358336-1.nat.bz2\")"
   ]
  },
  {
   "cell_type": "code",
   "execution_count": null,
   "id": "afb5790b-e349-460a-857a-a380eee248c1",
   "metadata": {},
   "outputs": [],
   "source": []
  }
 ],
 "metadata": {
  "kernelspec": {
   "display_name": "nowcasting_dataset",
   "language": "python",
   "name": "nowcasting_dataset"
  },
  "language_info": {
   "codemirror_mode": {
    "name": "ipython",
    "version": 3
   },
   "file_extension": ".py",
   "mimetype": "text/x-python",
   "name": "python",
   "nbconvert_exporter": "python",
   "pygments_lexer": "ipython3",
   "version": "3.9.7"
  }
 },
 "nbformat": 4,
 "nbformat_minor": 5
}
